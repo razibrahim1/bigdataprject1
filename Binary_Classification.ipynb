{
  "nbformat": 4,
  "nbformat_minor": 0,
  "metadata": {
    "colab": {
      "provenance": []
    },
    "kernelspec": {
      "name": "python3",
      "display_name": "Python 3"
    },
    "language_info": {
      "name": "python"
    }
  },
  "cells": [
    {
      "cell_type": "markdown",
      "source": [
        "נעשה שימוש בעזרה ע\"י CHATGPT"
      ],
      "metadata": {
        "id": "isNdmpGcnycx"
      }
    },
    {
      "cell_type": "markdown",
      "source": [
        "## LIBRARIES"
      ],
      "metadata": {
        "id": "Gv0tVOfL6CgU"
      }
    },
    {
      "cell_type": "code",
      "execution_count": null,
      "metadata": {
        "id": "HwGcM_-v_AfK"
      },
      "outputs": [],
      "source": [
        "#Import the libraries\n",
        "import pandas as pd\n",
        "import numpy as np\n",
        "import warnings\n",
        "import matplotlib.pyplot as plt\n",
        "import seaborn as sns\n",
        "from sklearn.model_selection import train_test_split, GridSearchCV\n",
        "from sklearn.impute import SimpleImputer\n",
        "from sklearn.pipeline import Pipeline\n",
        "from sklearn.metrics import classification_report, accuracy_score, precision_score, recall_score, f1_score\n",
        "from sklearn.linear_model import LogisticRegression\n",
        "from sklearn.svm import SVC\n",
        "from sklearn.neighbors import KNeighborsClassifier\n",
        "from xgboost import XGBClassifier\n",
        "from sklearn.ensemble import RandomForestClassifier\n",
        "from sklearn.model_selection import cross_val_predict\n",
        "from sklearn.preprocessing import LabelEncoder, StandardScaler\n",
        "\n"
      ]
    },
    {
      "cell_type": "markdown",
      "source": [
        "## DATASET"
      ],
      "metadata": {
        "id": "E4EeTe8m6aE9"
      }
    },
    {
      "cell_type": "code",
      "source": [
        "#Load the dataset\n",
        "dataframe_table = pd.read_csv(\"Healthcare-Diabetes.csv\")"
      ],
      "metadata": {
        "id": "Y3GLUfdF_lNL"
      },
      "execution_count": null,
      "outputs": []
    },
    {
      "cell_type": "code",
      "source": [
        "dataframe_table.head()"
      ],
      "metadata": {
        "colab": {
          "base_uri": "https://localhost:8080/",
          "height": 226
        },
        "id": "JBeCqLrUA6Uc",
        "outputId": "c2b9431e-1ac8-4564-8e7e-a235c13d1b78"
      },
      "execution_count": null,
      "outputs": [
        {
          "output_type": "execute_result",
          "data": {
            "text/plain": [
              "   Id  Pregnancies  Glucose  BloodPressure  SkinThickness  Insulin   BMI  \\\n",
              "0   1            6      148             72             35        0  33.6   \n",
              "1   2            1       85             66             29        0  26.6   \n",
              "2   3            8      183             64              0        0  23.3   \n",
              "3   4            1       89             66             23       94  28.1   \n",
              "4   5            0      137             40             35      168  43.1   \n",
              "\n",
              "   DiabetesPedigreeFunction  Age  Outcome  \n",
              "0                     0.627   50        1  \n",
              "1                     0.351   31        0  \n",
              "2                     0.672   32        1  \n",
              "3                     0.167   21        0  \n",
              "4                     2.288   33        1  "
            ],
            "text/html": [
              "\n",
              "  <div id=\"df-db47df9a-d063-4cc3-a673-97e8f5cbacae\" class=\"colab-df-container\">\n",
              "    <div>\n",
              "<style scoped>\n",
              "    .dataframe tbody tr th:only-of-type {\n",
              "        vertical-align: middle;\n",
              "    }\n",
              "\n",
              "    .dataframe tbody tr th {\n",
              "        vertical-align: top;\n",
              "    }\n",
              "\n",
              "    .dataframe thead th {\n",
              "        text-align: right;\n",
              "    }\n",
              "</style>\n",
              "<table border=\"1\" class=\"dataframe\">\n",
              "  <thead>\n",
              "    <tr style=\"text-align: right;\">\n",
              "      <th></th>\n",
              "      <th>Id</th>\n",
              "      <th>Pregnancies</th>\n",
              "      <th>Glucose</th>\n",
              "      <th>BloodPressure</th>\n",
              "      <th>SkinThickness</th>\n",
              "      <th>Insulin</th>\n",
              "      <th>BMI</th>\n",
              "      <th>DiabetesPedigreeFunction</th>\n",
              "      <th>Age</th>\n",
              "      <th>Outcome</th>\n",
              "    </tr>\n",
              "  </thead>\n",
              "  <tbody>\n",
              "    <tr>\n",
              "      <th>0</th>\n",
              "      <td>1</td>\n",
              "      <td>6</td>\n",
              "      <td>148</td>\n",
              "      <td>72</td>\n",
              "      <td>35</td>\n",
              "      <td>0</td>\n",
              "      <td>33.6</td>\n",
              "      <td>0.627</td>\n",
              "      <td>50</td>\n",
              "      <td>1</td>\n",
              "    </tr>\n",
              "    <tr>\n",
              "      <th>1</th>\n",
              "      <td>2</td>\n",
              "      <td>1</td>\n",
              "      <td>85</td>\n",
              "      <td>66</td>\n",
              "      <td>29</td>\n",
              "      <td>0</td>\n",
              "      <td>26.6</td>\n",
              "      <td>0.351</td>\n",
              "      <td>31</td>\n",
              "      <td>0</td>\n",
              "    </tr>\n",
              "    <tr>\n",
              "      <th>2</th>\n",
              "      <td>3</td>\n",
              "      <td>8</td>\n",
              "      <td>183</td>\n",
              "      <td>64</td>\n",
              "      <td>0</td>\n",
              "      <td>0</td>\n",
              "      <td>23.3</td>\n",
              "      <td>0.672</td>\n",
              "      <td>32</td>\n",
              "      <td>1</td>\n",
              "    </tr>\n",
              "    <tr>\n",
              "      <th>3</th>\n",
              "      <td>4</td>\n",
              "      <td>1</td>\n",
              "      <td>89</td>\n",
              "      <td>66</td>\n",
              "      <td>23</td>\n",
              "      <td>94</td>\n",
              "      <td>28.1</td>\n",
              "      <td>0.167</td>\n",
              "      <td>21</td>\n",
              "      <td>0</td>\n",
              "    </tr>\n",
              "    <tr>\n",
              "      <th>4</th>\n",
              "      <td>5</td>\n",
              "      <td>0</td>\n",
              "      <td>137</td>\n",
              "      <td>40</td>\n",
              "      <td>35</td>\n",
              "      <td>168</td>\n",
              "      <td>43.1</td>\n",
              "      <td>2.288</td>\n",
              "      <td>33</td>\n",
              "      <td>1</td>\n",
              "    </tr>\n",
              "  </tbody>\n",
              "</table>\n",
              "</div>\n",
              "    <div class=\"colab-df-buttons\">\n",
              "\n",
              "  <div class=\"colab-df-container\">\n",
              "    <button class=\"colab-df-convert\" onclick=\"convertToInteractive('df-db47df9a-d063-4cc3-a673-97e8f5cbacae')\"\n",
              "            title=\"Convert this dataframe to an interactive table.\"\n",
              "            style=\"display:none;\">\n",
              "\n",
              "  <svg xmlns=\"http://www.w3.org/2000/svg\" height=\"24px\" viewBox=\"0 -960 960 960\">\n",
              "    <path d=\"M120-120v-720h720v720H120Zm60-500h600v-160H180v160Zm220 220h160v-160H400v160Zm0 220h160v-160H400v160ZM180-400h160v-160H180v160Zm440 0h160v-160H620v160ZM180-180h160v-160H180v160Zm440 0h160v-160H620v160Z\"/>\n",
              "  </svg>\n",
              "    </button>\n",
              "\n",
              "  <style>\n",
              "    .colab-df-container {\n",
              "      display:flex;\n",
              "      gap: 12px;\n",
              "    }\n",
              "\n",
              "    .colab-df-convert {\n",
              "      background-color: #E8F0FE;\n",
              "      border: none;\n",
              "      border-radius: 50%;\n",
              "      cursor: pointer;\n",
              "      display: none;\n",
              "      fill: #1967D2;\n",
              "      height: 32px;\n",
              "      padding: 0 0 0 0;\n",
              "      width: 32px;\n",
              "    }\n",
              "\n",
              "    .colab-df-convert:hover {\n",
              "      background-color: #E2EBFA;\n",
              "      box-shadow: 0px 1px 2px rgba(60, 64, 67, 0.3), 0px 1px 3px 1px rgba(60, 64, 67, 0.15);\n",
              "      fill: #174EA6;\n",
              "    }\n",
              "\n",
              "    .colab-df-buttons div {\n",
              "      margin-bottom: 4px;\n",
              "    }\n",
              "\n",
              "    [theme=dark] .colab-df-convert {\n",
              "      background-color: #3B4455;\n",
              "      fill: #D2E3FC;\n",
              "    }\n",
              "\n",
              "    [theme=dark] .colab-df-convert:hover {\n",
              "      background-color: #434B5C;\n",
              "      box-shadow: 0px 1px 3px 1px rgba(0, 0, 0, 0.15);\n",
              "      filter: drop-shadow(0px 1px 2px rgba(0, 0, 0, 0.3));\n",
              "      fill: #FFFFFF;\n",
              "    }\n",
              "  </style>\n",
              "\n",
              "    <script>\n",
              "      const buttonEl =\n",
              "        document.querySelector('#df-db47df9a-d063-4cc3-a673-97e8f5cbacae button.colab-df-convert');\n",
              "      buttonEl.style.display =\n",
              "        google.colab.kernel.accessAllowed ? 'block' : 'none';\n",
              "\n",
              "      async function convertToInteractive(key) {\n",
              "        const element = document.querySelector('#df-db47df9a-d063-4cc3-a673-97e8f5cbacae');\n",
              "        const dataTable =\n",
              "          await google.colab.kernel.invokeFunction('convertToInteractive',\n",
              "                                                    [key], {});\n",
              "        if (!dataTable) return;\n",
              "\n",
              "        const docLinkHtml = 'Like what you see? Visit the ' +\n",
              "          '<a target=\"_blank\" href=https://colab.research.google.com/notebooks/data_table.ipynb>data table notebook</a>'\n",
              "          + ' to learn more about interactive tables.';\n",
              "        element.innerHTML = '';\n",
              "        dataTable['output_type'] = 'display_data';\n",
              "        await google.colab.output.renderOutput(dataTable, element);\n",
              "        const docLink = document.createElement('div');\n",
              "        docLink.innerHTML = docLinkHtml;\n",
              "        element.appendChild(docLink);\n",
              "      }\n",
              "    </script>\n",
              "  </div>\n",
              "\n",
              "\n",
              "<div id=\"df-ab7f44b6-f18a-4a75-876a-5ce3ef5256df\">\n",
              "  <button class=\"colab-df-quickchart\" onclick=\"quickchart('df-ab7f44b6-f18a-4a75-876a-5ce3ef5256df')\"\n",
              "            title=\"Suggest charts.\"\n",
              "            style=\"display:none;\">\n",
              "\n",
              "<svg xmlns=\"http://www.w3.org/2000/svg\" height=\"24px\"viewBox=\"0 0 24 24\"\n",
              "     width=\"24px\">\n",
              "    <g>\n",
              "        <path d=\"M19 3H5c-1.1 0-2 .9-2 2v14c0 1.1.9 2 2 2h14c1.1 0 2-.9 2-2V5c0-1.1-.9-2-2-2zM9 17H7v-7h2v7zm4 0h-2V7h2v10zm4 0h-2v-4h2v4z\"/>\n",
              "    </g>\n",
              "</svg>\n",
              "  </button>\n",
              "\n",
              "<style>\n",
              "  .colab-df-quickchart {\n",
              "      --bg-color: #E8F0FE;\n",
              "      --fill-color: #1967D2;\n",
              "      --hover-bg-color: #E2EBFA;\n",
              "      --hover-fill-color: #174EA6;\n",
              "      --disabled-fill-color: #AAA;\n",
              "      --disabled-bg-color: #DDD;\n",
              "  }\n",
              "\n",
              "  [theme=dark] .colab-df-quickchart {\n",
              "      --bg-color: #3B4455;\n",
              "      --fill-color: #D2E3FC;\n",
              "      --hover-bg-color: #434B5C;\n",
              "      --hover-fill-color: #FFFFFF;\n",
              "      --disabled-bg-color: #3B4455;\n",
              "      --disabled-fill-color: #666;\n",
              "  }\n",
              "\n",
              "  .colab-df-quickchart {\n",
              "    background-color: var(--bg-color);\n",
              "    border: none;\n",
              "    border-radius: 50%;\n",
              "    cursor: pointer;\n",
              "    display: none;\n",
              "    fill: var(--fill-color);\n",
              "    height: 32px;\n",
              "    padding: 0;\n",
              "    width: 32px;\n",
              "  }\n",
              "\n",
              "  .colab-df-quickchart:hover {\n",
              "    background-color: var(--hover-bg-color);\n",
              "    box-shadow: 0 1px 2px rgba(60, 64, 67, 0.3), 0 1px 3px 1px rgba(60, 64, 67, 0.15);\n",
              "    fill: var(--button-hover-fill-color);\n",
              "  }\n",
              "\n",
              "  .colab-df-quickchart-complete:disabled,\n",
              "  .colab-df-quickchart-complete:disabled:hover {\n",
              "    background-color: var(--disabled-bg-color);\n",
              "    fill: var(--disabled-fill-color);\n",
              "    box-shadow: none;\n",
              "  }\n",
              "\n",
              "  .colab-df-spinner {\n",
              "    border: 2px solid var(--fill-color);\n",
              "    border-color: transparent;\n",
              "    border-bottom-color: var(--fill-color);\n",
              "    animation:\n",
              "      spin 1s steps(1) infinite;\n",
              "  }\n",
              "\n",
              "  @keyframes spin {\n",
              "    0% {\n",
              "      border-color: transparent;\n",
              "      border-bottom-color: var(--fill-color);\n",
              "      border-left-color: var(--fill-color);\n",
              "    }\n",
              "    20% {\n",
              "      border-color: transparent;\n",
              "      border-left-color: var(--fill-color);\n",
              "      border-top-color: var(--fill-color);\n",
              "    }\n",
              "    30% {\n",
              "      border-color: transparent;\n",
              "      border-left-color: var(--fill-color);\n",
              "      border-top-color: var(--fill-color);\n",
              "      border-right-color: var(--fill-color);\n",
              "    }\n",
              "    40% {\n",
              "      border-color: transparent;\n",
              "      border-right-color: var(--fill-color);\n",
              "      border-top-color: var(--fill-color);\n",
              "    }\n",
              "    60% {\n",
              "      border-color: transparent;\n",
              "      border-right-color: var(--fill-color);\n",
              "    }\n",
              "    80% {\n",
              "      border-color: transparent;\n",
              "      border-right-color: var(--fill-color);\n",
              "      border-bottom-color: var(--fill-color);\n",
              "    }\n",
              "    90% {\n",
              "      border-color: transparent;\n",
              "      border-bottom-color: var(--fill-color);\n",
              "    }\n",
              "  }\n",
              "</style>\n",
              "\n",
              "  <script>\n",
              "    async function quickchart(key) {\n",
              "      const quickchartButtonEl =\n",
              "        document.querySelector('#' + key + ' button');\n",
              "      quickchartButtonEl.disabled = true;  // To prevent multiple clicks.\n",
              "      quickchartButtonEl.classList.add('colab-df-spinner');\n",
              "      try {\n",
              "        const charts = await google.colab.kernel.invokeFunction(\n",
              "            'suggestCharts', [key], {});\n",
              "      } catch (error) {\n",
              "        console.error('Error during call to suggestCharts:', error);\n",
              "      }\n",
              "      quickchartButtonEl.classList.remove('colab-df-spinner');\n",
              "      quickchartButtonEl.classList.add('colab-df-quickchart-complete');\n",
              "    }\n",
              "    (() => {\n",
              "      let quickchartButtonEl =\n",
              "        document.querySelector('#df-ab7f44b6-f18a-4a75-876a-5ce3ef5256df button');\n",
              "      quickchartButtonEl.style.display =\n",
              "        google.colab.kernel.accessAllowed ? 'block' : 'none';\n",
              "    })();\n",
              "  </script>\n",
              "</div>\n",
              "    </div>\n",
              "  </div>\n"
            ]
          },
          "metadata": {},
          "execution_count": 5
        }
      ]
    },
    {
      "cell_type": "code",
      "source": [
        "dataframe_table.info()"
      ],
      "metadata": {
        "colab": {
          "base_uri": "https://localhost:8080/"
        },
        "id": "ZyMhjKIJNQBl",
        "outputId": "b7a969bc-042e-469d-a051-d9018032bb4b"
      },
      "execution_count": null,
      "outputs": [
        {
          "output_type": "stream",
          "name": "stdout",
          "text": [
            "<class 'pandas.core.frame.DataFrame'>\n",
            "RangeIndex: 2768 entries, 0 to 2767\n",
            "Data columns (total 10 columns):\n",
            " #   Column                    Non-Null Count  Dtype  \n",
            "---  ------                    --------------  -----  \n",
            " 0   Id                        2768 non-null   int64  \n",
            " 1   Pregnancies               2768 non-null   int64  \n",
            " 2   Glucose                   2768 non-null   int64  \n",
            " 3   BloodPressure             2768 non-null   int64  \n",
            " 4   SkinThickness             2768 non-null   int64  \n",
            " 5   Insulin                   2768 non-null   int64  \n",
            " 6   BMI                       2768 non-null   float64\n",
            " 7   DiabetesPedigreeFunction  2768 non-null   float64\n",
            " 8   Age                       2768 non-null   int64  \n",
            " 9   Outcome                   2768 non-null   int64  \n",
            "dtypes: float64(2), int64(8)\n",
            "memory usage: 216.4 KB\n"
          ]
        }
      ]
    },
    {
      "cell_type": "code",
      "source": [
        "#Data preprocessing\n",
        "X = dataframe_table.drop('Outcome', axis=1)\n",
        "y = dataframe_table['Outcome']"
      ],
      "metadata": {
        "id": "US4ALK9DBSWP"
      },
      "execution_count": null,
      "outputs": []
    },
    {
      "cell_type": "markdown",
      "source": [
        "## CHART"
      ],
      "metadata": {
        "id": "6Tt2JeHp6mGd"
      }
    },
    {
      "cell_type": "code",
      "source": [
        "# Calculate the count of each category\n",
        "category_counts = y.value_counts()\n",
        "\n",
        "# Plot a bar chart\n",
        "plt.figure(figsize=(8, 6))\n",
        "category_counts.plot(kind='bar')\n",
        "plt.xlabel('Categories')\n",
        "plt.ylabel('Frequency')\n",
        "plt.title('Category Frequencies')\n",
        "plt.xticks(rotation=45)\n",
        "plt.show()\n",
        "\n",
        "# Print the count of each category\n",
        "print(\"Category Counts:\")\n",
        "print(category_counts)"
      ],
      "metadata": {
        "colab": {
          "base_uri": "https://localhost:8080/",
          "height": 635
        },
        "id": "ts-TvLPWCrjG",
        "outputId": "dff949c7-aa68-4e57-81ef-c1a5fa52b058"
      },
      "execution_count": null,
      "outputs": [
        {
          "output_type": "display_data",
          "data": {
            "text/plain": [
              "<Figure size 800x600 with 1 Axes>"
            ],
            "image/png": "[encoded data removed]"
          },
          "metadata": {}
        },
        {
          "output_type": "stream",
          "name": "stdout",
          "text": [
            "Category Counts:\n",
            "0    1816\n",
            "1     952\n",
            "Name: Outcome, dtype: int64\n"
          ]
        }
      ]
    },
    {
      "cell_type": "markdown",
      "source": [
        "\n",
        "\n",
        "---\n",
        "\n",
        "\n",
        "\n",
        "---\n",
        "\n",
        "\n",
        "**מדוע נחוץ לאזן משתנה תיוג שאינו מאוזן?**"
      ],
      "metadata": {
        "id": "nApq0H8pFSJY"
      }
    },
    {
      "cell_type": "markdown",
      "source": [
        "קיום תג משתנה מאוזן שאינו מאוזן יכול להוביל לבעיות מכיוון שהוא צריך לתאר במדויק את המשתנה שאליו הוא מחובר. כאשר זה לא מאוזן, זה יכול לגרום לבלבול ושגיאות בעבודה שלנו, בין אם זה קידוד או ניתוח נתונים. לכן, תג מאוזן חיוני לבהירות ולתוצאות אמינות."
      ],
      "metadata": {
        "id": "7YPyLmoY7U_D"
      }
    },
    {
      "cell_type": "markdown",
      "source": [
        " **הסבירו את ההגיון מאחורי השיטות, כיצד האלגוריתמים עובדים ומהו התוצר? מהם היתרונות והחסרונות של דגימת יתר וחסר?**"
      ],
      "metadata": {
        "id": "laovO6i0GCzN"
      }
    },
    {
      "cell_type": "markdown",
      "source": [],
      "metadata": {
        "id": "2XFM30Afmff6"
      }
    },
    {
      "cell_type": "markdown",
      "source": [
        "שיטות דגימה כוללות בחירת תת-קבוצת נתונים מתוך מערך נתונים גדול יותר כדי להפוך את הניתוח לניתן יותר לניהול. אלגוריתמים כמו דגימה אקראית או דגימה מרובדת מנחים תהליך זה, ומבטיחים דגימות מייצגות. המוצר הוא מערך נתונים קטן יותר לניתוח. דגימה מוגזמת עלולה להיות יקרה וגוזלת זמן, בעוד שדגימה לא מספקת עלולה להוביל למסקנות לא מדויקות.\n",
        "\n",
        "---\n",
        "\n",
        "\n",
        "\n",
        "---\n",
        "\n"
      ],
      "metadata": {
        "id": "0vq5yBy38ECs"
      }
    },
    {
      "cell_type": "markdown",
      "source": [
        "## MISSING VALUES"
      ],
      "metadata": {
        "id": "AqASjJyb8K2_"
      }
    },
    {
      "cell_type": "code",
      "source": [
        "#Check missing values\n",
        "missing_values = dataframe_table.isnull().sum()\n",
        "missing_values\n"
      ],
      "metadata": {
        "colab": {
          "base_uri": "https://localhost:8080/"
        },
        "id": "eBdRDlp6jLCe",
        "outputId": "9b1e520f-106e-4fdc-910d-157ead0d755a"
      },
      "execution_count": null,
      "outputs": [
        {
          "output_type": "execute_result",
          "data": {
            "text/plain": [
              "Id                          0\n",
              "Pregnancies                 0\n",
              "Glucose                     0\n",
              "BloodPressure               0\n",
              "SkinThickness               0\n",
              "Insulin                     0\n",
              "BMI                         0\n",
              "DiabetesPedigreeFunction    0\n",
              "Age                         0\n",
              "Outcome                     0\n",
              "dtype: int64"
            ]
          },
          "metadata": {},
          "execution_count": 9
        }
      ]
    },
    {
      "cell_type": "code",
      "source": [
        "# If no missing values are found, insert missing values into the DataFrame\n",
        "if missing_values.sum() == 0:\n",
        "    column_name = 'Outcome'\n",
        "    num_missing_values = 5\n",
        "\n",
        "    # Randomly select row indices to insert missing values\n",
        "    random_indices = np.random.choice(len(dataframe_table), num_missing_values, replace=False)\n",
        "\n",
        "    # Insert missing values at selected indices\n",
        "    dataframe_table.loc[random_indices, column_name] = np.nan\n",
        "\n",
        "    # Display a message indicating missing values were inserted\n",
        "    print(f\"Inserted {num_missing_values} missing values into column '{column_name}'\")\n",
        "else:\n",
        "    # Print information about existing missing values\n",
        "    print(\"Missing values already exist in the dataset:\")\n",
        "    print(missing_values)"
      ],
      "metadata": {
        "colab": {
          "base_uri": "https://localhost:8080/"
        },
        "id": "aghu86kbC2gh",
        "outputId": "0e3aa72d-b834-41f0-8010-e69075be074f"
      },
      "execution_count": null,
      "outputs": [
        {
          "output_type": "stream",
          "name": "stdout",
          "text": [
            "Inserted 5 missing values into column 'Outcome'\n"
          ]
        }
      ]
    },
    {
      "cell_type": "markdown",
      "source": [
        "## FILL THE MISSING VALUES"
      ],
      "metadata": {
        "id": "uzx3X4WK8r-_"
      }
    },
    {
      "cell_type": "code",
      "source": [
        "#Fill missing values using mean imputation\n",
        "data_mean_imputed = dataframe_table.copy()\n",
        "data_mean_imputed.fillna(data_mean_imputed.mean(), inplace=True)\n",
        "\n",
        "#Fill missing values using median imputation\n",
        "data_median_imputed = dataframe_table.copy()\n",
        "data_median_imputed.fillna(data_median_imputed.median(), inplace=True)\n",
        "\n",
        "#Fill missing values using forward fill\n",
        "data_forward_filled = dataframe_table.copy()\n",
        "data_forward_filled.fillna(method='ffill', inplace=True)"
      ],
      "metadata": {
        "id": "VI1wkDeeJbKC"
      },
      "execution_count": null,
      "outputs": []
    },
    {
      "cell_type": "markdown",
      "source": [
        "## STANDARDIZE"
      ],
      "metadata": {
        "id": "q0iCaOO88-mf"
      }
    },
    {
      "cell_type": "code",
      "source": [
        "# Create StandardScaler instances\n",
        "scaler_mean = StandardScaler()\n",
        "scaler_median = StandardScaler()\n",
        "scaler_forward_filled = StandardScaler()\n",
        "\n",
        "# Fit and transform the scalers on the respective datasets\n",
        "X_scaled_mean = scaler_mean.fit_transform(data_mean_imputed.drop('Outcome', axis=1))\n",
        "X_scaled_median = scaler_median.fit_transform(data_median_imputed.drop('Outcome', axis=1))\n",
        "X_scaled_forward_filled = scaler_forward_filled.fit_transform(data_forward_filled.drop('Outcome', axis=1))"
      ],
      "metadata": {
        "id": "gc23p2zPK6MK"
      },
      "execution_count": null,
      "outputs": []
    },
    {
      "cell_type": "markdown",
      "source": [
        "## SPLIT DATASET INTO TRAIN AND TEST SETS"
      ],
      "metadata": {
        "id": "7VSPOvjS93_D"
      }
    },
    {
      "cell_type": "code",
      "source": [
        "# Define the features (X) and target (y) for each dataset\n",
        "X_mean_imputed = data_mean_imputed.drop('Outcome', axis=1)\n",
        "y_mean_imputed = data_mean_imputed['Outcome']\n",
        "\n",
        "X_median_imputed = data_median_imputed.drop('Outcome', axis=1)\n",
        "y_median_imputed = data_median_imputed['Outcome']\n",
        "\n",
        "X_forward_filled = data_forward_filled.drop('Outcome', axis=1)\n",
        "y_forward_filled = data_forward_filled['Outcome']\n",
        "\n",
        "# Split each dataset into train and test sets\n",
        "X_train_mean, X_test_mean, y_train_mean, y_test_mean = train_test_split(\n",
        "    X_mean_imputed, y_mean_imputed, test_size=0.2, random_state=42\n",
        ")\n",
        "\n",
        "X_train_median, X_test_median, y_train_median, y_test_median = train_test_split(\n",
        "    X_median_imputed, y_median_imputed, test_size=0.2, random_state=42\n",
        ")\n",
        "\n",
        "X_train_forward_filled, X_test_forward_filled, y_train_forward_filled, y_test_forward_filled = train_test_split(\n",
        "    X_forward_filled, y_forward_filled, test_size=0.2, random_state=42\n",
        ")\n",
        "# Split the data into training and test sets\n",
        "X_train, X_test, y_train, y_test = train_test_split(X, y, test_size=0.2, random_state=42)"
      ],
      "metadata": {
        "id": "FKZafT64LYTZ"
      },
      "execution_count": null,
      "outputs": []
    },
    {
      "cell_type": "markdown",
      "source": [
        "## MODEL BUILDING"
      ],
      "metadata": {
        "id": "MOqtZx7a-W8i"
      }
    },
    {
      "cell_type": "code",
      "source": [
        "# Use the filterwarnings method to ignore all warnings\n",
        "warnings.filterwarnings(\"ignore\")\n",
        "# Define the models\n",
        "logistic_regression_model = LogisticRegression()\n",
        "svm_model = SVC()\n",
        "random_forest_model = RandomForestClassifier()\n",
        "\n",
        "# List of models\n",
        "models = [\n",
        "    (\"Logistic Regression\", logistic_regression_model),\n",
        "    (\"Support Vector Machine\", svm_model),\n",
        "    (\"Random Forest\", random_forest_model)\n",
        "]\n",
        "\n",
        "# Iterate over the models and train/evaluate each one\n",
        "for model_name, model in models:\n",
        "    # Train the model\n",
        "    model.fit(X_train, y_train)\n",
        "\n",
        "    # Make predictions on the test data\n",
        "    y_pred = model.predict(X_test)\n",
        "\n",
        "    # Evaluate the model's performance\n",
        "    accuracy = accuracy_score(y_test, y_pred)\n",
        "    precision = precision_score(y_test, y_pred, average='weighted')\n",
        "    recall = recall_score(y_test, y_pred, average='weighted')\n",
        "    f1 = f1_score(y_test, y_pred, average='weighted')\n",
        "\n",
        "    # Print the evaluation metrics for each model\n",
        "    print(f\"Model: {model_name}\")\n",
        "    print(f\"Accuracy: {accuracy:.2f}\")\n",
        "    print(f\"Precision: {precision:.2f}\")\n",
        "    print(f\"Recall: {recall:.2f}\")\n",
        "    print(f\"F1 Score: {f1:.2f}\")\n",
        "    print(\"\\n\")\n",
        "\n",
        "# Cross_val_predict for Logistic Regression\n",
        "y_pred_cv = cross_val_predict(logistic_regression_model, X_train, y_train, cv=5)\n",
        "f1_cv = f1_score(y_train, y_pred_cv, average='weighted')\n",
        "print(f\"Cross-Validated F1 Score (Logistic Regression): {f1_cv:.2f}\")\n"
      ],
      "metadata": {
        "colab": {
          "base_uri": "https://localhost:8080/"
        },
        "id": "4Gd9Pira1bqt",
        "outputId": "d4df2439-5543-4f00-ccfa-fb9ff6098f52"
      },
      "execution_count": null,
      "outputs": [
        {
          "output_type": "stream",
          "name": "stdout",
          "text": [
            "Model: Logistic Regression\n",
            "Accuracy: 0.68\n",
            "Precision: 0.66\n",
            "Recall: 0.68\n",
            "F1 Score: 0.66\n",
            "\n",
            "\n",
            "Model: Support Vector Machine\n",
            "Accuracy: 0.66\n",
            "Precision: 0.44\n",
            "Recall: 0.66\n",
            "F1 Score: 0.53\n",
            "\n",
            "\n",
            "Model: Random Forest\n",
            "Accuracy: 0.98\n",
            "Precision: 0.98\n",
            "Recall: 0.98\n",
            "F1 Score: 0.98\n",
            "\n",
            "\n",
            "Cross-Validated F1 Score (Logistic Regression): 0.68\n"
          ]
        }
      ]
    },
    {
      "cell_type": "markdown",
      "source": [
        "## HYPERPARAMETER"
      ],
      "metadata": {
        "id": "FHtRvYaY-mDm"
      }
    },
    {
      "cell_type": "code",
      "source": [
        "# Define the hyperparameter grid for Logistic Regression\n",
        "param_grid = {\n",
        "    'logistic__C': [0.1, 1.0, 10.0],\n",
        "    'logistic__solver': ['liblinear', 'lbfgs']\n",
        "}\n",
        "\n",
        "# Create a pipeline\n",
        "logistic_regression_pipeline = Pipeline([\n",
        "    ('scaler', StandardScaler()),\n",
        "    ('logistic', LogisticRegression())\n",
        "])\n",
        "\n",
        "# Use GridSearchCV to search for the best hyperparameters\n",
        "grid_search = GridSearchCV(logistic_regression_pipeline, param_grid, cv=5, scoring='f1_weighted', n_jobs=-1)\n",
        "\n",
        "# Fit the model using your training data\n",
        "grid_search.fit(X_train, y_train)\n",
        "\n",
        "# Print the best parameters\n",
        "print(\"Best Hyperparameters for Logistic Regression:\")\n",
        "print(grid_search.best_params_)\n",
        "\n",
        "# Evaluate the model's performance\n",
        "y_pred = grid_search.predict(X_test)\n",
        "accuracy = accuracy_score(y_test, y_pred)\n",
        "precision = precision_score(y_test, y_pred, average='weighted')\n",
        "recall = recall_score(y_test, y_pred, average='weighted')\n",
        "f1 = f1_score(y_test, y_pred, average='weighted')\n",
        "\n",
        "# Print evaluation metrics\n",
        "print(f\"Accuracy: {accuracy:.2f}\")\n",
        "print(f\"Precision: {precision:.2f}\")\n",
        "print(f\"Recall: {recall:.2f}\")\n",
        "print(f\"F1 Score: {f1:.2f}\")\n"
      ],
      "metadata": {
        "colab": {
          "base_uri": "https://localhost:8080/"
        },
        "id": "5i7tRqnr2m6Z",
        "outputId": "8456dcc0-3b0e-411a-8655-9c238cf2d75d"
      },
      "execution_count": null,
      "outputs": [
        {
          "output_type": "stream",
          "name": "stdout",
          "text": [
            "Best Hyperparameters for Logistic Regression:\n",
            "{'logistic__C': 1.0, 'logistic__solver': 'liblinear'}\n",
            "Accuracy: 0.77\n",
            "Precision: 0.77\n",
            "Recall: 0.77\n",
            "F1 Score: 0.76\n"
          ]
        }
      ]
    },
    {
      "cell_type": "code",
      "source": [
        "# Models\n",
        "logistic_regression_model = LogisticRegression()\n",
        "svm_model = SVC()\n",
        "random_forest_model = RandomForestClassifier()\n",
        "\n",
        "# List of models\n",
        "models = [\n",
        "    logistic_regression_model,\n",
        "    svm_model,\n",
        "    random_forest_model\n",
        "]\n",
        "\n",
        "# List of model names\n",
        "model_names = [\n",
        "    \"Logistic Regression\",\n",
        "    \"Support Vector Machine\",\n",
        "    \"Random Forest\"\n",
        "]\n",
        "\n",
        "# Loop through models\n",
        "for model, model_name in zip(models, model_names):\n",
        "    # Initialize a pipeline\n",
        "    pipeline = Pipeline([\n",
        "        ('scaler', StandardScaler()),\n",
        "        ('model', model)\n",
        "    ])\n",
        "\n",
        "    # Fit the model on the training set\n",
        "    pipeline.fit(X_train, y_train)\n",
        "\n",
        "    # Make predictions on both training and test sets\n",
        "    y_train_pred = pipeline.predict(X_train)\n",
        "    y_test_pred = pipeline.predict(X_test)\n",
        "\n",
        "    # Print classification reports\n",
        "    print(\"Classification Report for Training Set:\")\n",
        "    print(f\"Model: {model_name}\")\n",
        "    print(classification_report(y_train, y_train_pred))\n",
        "\n",
        "    print(\"Classification Report for Test Set:\")\n",
        "    print(f\"Model: {model_name}\")\n",
        "    print(classification_report(y_test, y_test_pred))\n"
      ],
      "metadata": {
        "colab": {
          "base_uri": "https://localhost:8080/"
        },
        "id": "Dsuh-LB4X2WY",
        "outputId": "354717aa-fbcd-4119-c311-19438e4f8ce4"
      },
      "execution_count": null,
      "outputs": [
        {
          "output_type": "stream",
          "name": "stdout",
          "text": [
            "Classification Report for Training Set:\n",
            "Model: Logistic Regression\n",
            "              precision    recall  f1-score   support\n",
            "\n",
            "           0       0.80      0.89      0.84      1449\n",
            "           1       0.74      0.58      0.65       765\n",
            "\n",
            "    accuracy                           0.78      2214\n",
            "   macro avg       0.77      0.74      0.75      2214\n",
            "weighted avg       0.78      0.78      0.78      2214\n",
            "\n",
            "Classification Report for Test Set:\n",
            "Model: Logistic Regression\n",
            "              precision    recall  f1-score   support\n",
            "\n",
            "           0       0.79      0.90      0.84       367\n",
            "           1       0.73      0.52      0.61       187\n",
            "\n",
            "    accuracy                           0.77       554\n",
            "   macro avg       0.76      0.71      0.72       554\n",
            "weighted avg       0.77      0.77      0.76       554\n",
            "\n",
            "Classification Report for Training Set:\n",
            "Model: Support Vector Machine\n",
            "              precision    recall  f1-score   support\n",
            "\n",
            "           0       0.86      0.93      0.89      1449\n",
            "           1       0.84      0.70      0.77       765\n",
            "\n",
            "    accuracy                           0.85      2214\n",
            "   macro avg       0.85      0.82      0.83      2214\n",
            "weighted avg       0.85      0.85      0.85      2214\n",
            "\n",
            "Classification Report for Test Set:\n",
            "Model: Support Vector Machine\n",
            "              precision    recall  f1-score   support\n",
            "\n",
            "           0       0.84      0.91      0.87       367\n",
            "           1       0.78      0.66      0.72       187\n",
            "\n",
            "    accuracy                           0.82       554\n",
            "   macro avg       0.81      0.78      0.79       554\n",
            "weighted avg       0.82      0.82      0.82       554\n",
            "\n",
            "Classification Report for Training Set:\n",
            "Model: Random Forest\n",
            "              precision    recall  f1-score   support\n",
            "\n",
            "           0       1.00      1.00      1.00      1449\n",
            "           1       1.00      1.00      1.00       765\n",
            "\n",
            "    accuracy                           1.00      2214\n",
            "   macro avg       1.00      1.00      1.00      2214\n",
            "weighted avg       1.00      1.00      1.00      2214\n",
            "\n",
            "Classification Report for Test Set:\n",
            "Model: Random Forest\n",
            "              precision    recall  f1-score   support\n",
            "\n",
            "           0       0.98      0.99      0.99       367\n",
            "           1       0.98      0.96      0.97       187\n",
            "\n",
            "    accuracy                           0.98       554\n",
            "   macro avg       0.98      0.97      0.98       554\n",
            "weighted avg       0.98      0.98      0.98       554\n",
            "\n"
          ]
        }
      ]
    },
    {
      "cell_type": "markdown",
      "source": [
        "\n",
        "\n",
        "---\n",
        "\n",
        "\n",
        "\n",
        "---\n",
        "\n",
        "\n",
        "**הסבירו את התוצאות שהתקבלו ביחס לשני מדדים נוספים שאינם ACCURACY באופן מילולי. האם התוצאה טובה? מה משמעות כל אחד מהמדדים?**"
      ],
      "metadata": {
        "id": "LSdYLOujG58u"
      }
    },
    {
      "cell_type": "markdown",
      "source": [
        "# Logistic Regression:\n",
        "\n",
        "רגרסיה לוגיסטית יעילה מבחינה חישובית ובדרך כלל מהירה לאימון ולניבוי. הוא מתאים היטב למערכי נתונים גדולים בשל הפשטות שלו.\n",
        "יש לו שימוש נמוך בזיכרון בהשוואה למודלים מורכבים יותר כמו רשתות עצביות עמוקות.\n",
        "\n",
        "---\n",
        "\n",
        "\n",
        "# Support Vector Machine (SVM):\n",
        "\n",
        "SVSVMs יכולים להיות אינטנסיביים מבחינה חישובית, במיוחד עם מערכי נתונים גדולים. זמן האימון יכול לגדול באופן משמעותי עם נתונים במידות גבוהות.\n",
        "ייתכן שמערכות SVM אינן הבחירה היעילה ביותר כאשר משאבי החישוב מוגבלים.\n",
        "\n",
        "---\n",
        "\n",
        "\n",
        "# Random Forest:\n",
        "\n",
        "יערות אקראיים יכולים להיות יעילים לאימון ולניבוי. הם ניתנים להקביל, מה שאומר שהם יכולים לנצל את היתרונות של מעבדים מרובי ליבות.\n",
        "השימוש בזיכרון יכול להיות גבוה יותר מרגרסיה לוגיסטית אך בדרך כלל ניתן לניהול.\n",
        "\n",
        "\n",
        "\n",
        "---\n",
        "\n",
        "\n",
        "אנו עובדים עם מערך נתונים גדול וזקוקים ליעילות חישובית מירבית,\n",
        "רגרסיה לוגיסטית היא האפשרות המועדפת. אם ביצועים חזויים הם\n",
        "עדיפות עליונה ומשאבים חישוביים מספיקים, אולי כדאי לשקול יערות אקראיים או SVMs, מכיוון שהם יכולים לספק דיוק גבוה יותר במחיר מוגבר של זמן חישוב ושימוש בזיכרון.\n",
        "\n",
        "\n",
        "---\n",
        "\n",
        "\n"
      ],
      "metadata": {
        "id": "JEqnD-9OD__v"
      }
    }
  ]
}